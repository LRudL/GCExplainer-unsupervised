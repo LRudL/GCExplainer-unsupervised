{
 "cells": [
  {
   "cell_type": "code",
   "execution_count": 1,
   "metadata": {},
   "outputs": [],
   "source": [
    "%load_ext autoreload\n",
    "%autoreload 2"
   ]
  },
  {
   "cell_type": "code",
   "execution_count": 2,
   "metadata": {},
   "outputs": [
    {
     "name": "stderr",
     "output_type": "stream",
     "text": [
      "/home/lrudl/miniconda3/envs/pyg2/lib/python3.10/site-packages/tqdm/auto.py:22: TqdmWarning: IProgress not found. Please update jupyter and ipywidgets. See https://ipywidgets.readthedocs.io/en/stable/user_install.html\n",
      "  from .autonotebook import tqdm as notebook_tqdm\n"
     ]
    }
   ],
   "source": [
    "from gcf import *\n",
    "from graph import *\n",
    "from graph_gen import bhshapes\n",
    "import matplotlib.pyplot as plt\n",
    "import pandas as pd\n",
    "import torch as t"
   ]
  },
  {
   "cell_type": "code",
   "execution_count": 4,
   "metadata": {},
   "outputs": [],
   "source": [
    "graph = Graph(bhshapes(100, 40))"
   ]
  },
  {
   "cell_type": "code",
   "execution_count": 5,
   "metadata": {},
   "outputs": [
    {
     "name": "stdout",
     "output_type": "stream",
     "text": [
      "-s 5 -d False -l 3 -u 6 ../gspan_out\n",
      "t # 0\n",
      "v 0 1\n",
      "v 1 1\n",
      "v 2 1\n",
      "e 0 1 1\n",
      "e 1 2 1\n",
      "\n",
      "Support: 10\n",
      "\n",
      "-----------------\n",
      "\n",
      "t # 1\n",
      "v 0 1\n",
      "v 1 1\n",
      "v 2 1\n",
      "e 0 1 1\n",
      "e 0 2 1\n",
      "e 1 2 1\n",
      "\n",
      "Support: 10\n",
      "\n",
      "-----------------\n",
      "\n",
      "t # 2\n",
      "v 0 1\n",
      "v 1 1\n",
      "v 2 1\n",
      "v 3 1\n",
      "e 0 1 1\n",
      "e 0 2 1\n",
      "e 1 2 1\n",
      "e 2 3 1\n",
      "\n",
      "Support: 10\n",
      "\n",
      "-----------------\n",
      "\n",
      "t # 3\n",
      "v 0 1\n",
      "v 1 1\n",
      "v 2 1\n",
      "v 3 1\n",
      "v 4 1\n",
      "e 0 1 1\n",
      "e 0 2 1\n",
      "e 1 2 1\n",
      "e 2 3 1\n",
      "e 3 4 1\n",
      "\n",
      "Support: 10\n",
      "\n",
      "-----------------\n",
      "\n",
      "t # 4\n",
      "v 0 1\n",
      "v 1 1\n",
      "v 2 1\n",
      "v 3 1\n",
      "v 4 1\n",
      "e 0 1 1\n",
      "e 0 2 1\n",
      "e 0 4 1\n",
      "e 1 2 1\n",
      "e 2 3 1\n",
      "e 3 4 1\n",
      "\n",
      "Support: 9\n",
      "\n",
      "-----------------\n",
      "\n",
      "t # 5\n",
      "v 0 1\n",
      "v 1 1\n",
      "v 2 1\n",
      "v 3 1\n",
      "v 4 1\n",
      "v 5 1\n",
      "e 0 1 1\n",
      "e 0 2 1\n",
      "e 0 4 1\n",
      "e 1 2 1\n",
      "e 2 3 1\n",
      "e 2 5 1\n",
      "e 3 4 1\n",
      "\n",
      "Support: 9\n",
      "\n",
      "-----------------\n",
      "\n",
      "t # 6\n",
      "v 0 1\n",
      "v 1 1\n",
      "v 2 1\n",
      "v 3 1\n",
      "v 4 1\n",
      "v 5 1\n",
      "e 0 1 1\n",
      "e 0 2 1\n",
      "e 1 2 1\n",
      "e 2 3 1\n",
      "e 3 4 1\n",
      "e 4 5 1\n",
      "\n",
      "Support: 10\n",
      "\n",
      "-----------------\n",
      "\n",
      "t # 7\n",
      "v 0 1\n",
      "v 1 1\n",
      "v 2 1\n",
      "v 3 1\n",
      "v 4 1\n",
      "v 5 1\n",
      "e 0 1 1\n",
      "e 0 2 1\n",
      "e 1 2 1\n",
      "e 2 3 1\n",
      "e 2 5 1\n",
      "e 3 4 1\n",
      "\n",
      "Support: 10\n",
      "\n",
      "-----------------\n",
      "\n",
      "t # 8\n",
      "v 0 1\n",
      "v 1 1\n",
      "v 2 1\n",
      "v 3 1\n",
      "v 4 1\n",
      "v 5 1\n",
      "e 0 1 1\n",
      "e 0 2 1\n",
      "e 1 2 1\n",
      "e 1 5 1\n",
      "e 2 3 1\n",
      "e 3 4 1\n",
      "\n",
      "Support: 9\n",
      "\n",
      "-----------------\n",
      "\n",
      "t # 9\n",
      "v 0 1\n",
      "v 1 1\n",
      "v 2 1\n",
      "v 3 1\n",
      "v 4 1\n",
      "v 5 1\n",
      "e 0 1 1\n",
      "e 0 2 1\n",
      "e 1 2 1\n",
      "e 2 3 1\n",
      "e 3 4 1\n",
      "e 3 5 1\n",
      "\n",
      "Support: 6\n",
      "\n",
      "-----------------\n",
      "\n",
      "t # 10\n",
      "v 0 1\n",
      "v 1 1\n",
      "v 2 1\n",
      "v 3 1\n",
      "v 4 1\n",
      "e 0 1 1\n",
      "e 0 2 1\n",
      "e 1 2 1\n",
      "e 2 3 1\n",
      "e 2 4 1\n",
      "\n",
      "Support: 10\n",
      "\n",
      "-----------------\n",
      "\n",
      "t # 11\n",
      "v 0 1\n",
      "v 1 1\n",
      "v 2 1\n",
      "v 3 1\n",
      "v 4 1\n",
      "v 5 1\n",
      "e 0 1 1\n",
      "e 0 2 1\n",
      "e 1 2 1\n",
      "e 1 5 1\n",
      "e 2 3 1\n",
      "e 2 4 1\n",
      "\n",
      "Support: 9\n",
      "\n",
      "-----------------\n",
      "\n",
      "t # 12\n",
      "v 0 1\n",
      "v 1 1\n",
      "v 2 1\n",
      "v 3 1\n",
      "v 4 1\n",
      "e 0 1 1\n",
      "e 0 2 1\n",
      "e 1 2 1\n",
      "e 1 4 1\n",
      "e 2 3 1\n",
      "\n",
      "Support: 9\n",
      "\n",
      "-----------------\n",
      "\n",
      "t # 13\n",
      "v 0 1\n",
      "v 1 1\n",
      "v 2 1\n",
      "v 3 1\n",
      "e 0 1 1\n",
      "e 1 2 1\n",
      "e 2 3 1\n",
      "\n",
      "Support: 10\n",
      "\n",
      "-----------------\n",
      "\n"
     ]
    },
    {
     "name": "stderr",
     "output_type": "stream",
     "text": [
      "/home/lrudl/miniconda3/envs/pyg2/lib/python3.10/site-packages/gspan_mining/gspan.py:336: FutureWarning: The frame.append method is deprecated and will be removed from pandas in a future version. Use pandas.concat instead.\n",
      "  self._report_df = self._report_df.append(\n",
      "/home/lrudl/miniconda3/envs/pyg2/lib/python3.10/site-packages/gspan_mining/gspan.py:336: FutureWarning: The frame.append method is deprecated and will be removed from pandas in a future version. Use pandas.concat instead.\n",
      "  self._report_df = self._report_df.append(\n",
      "/home/lrudl/miniconda3/envs/pyg2/lib/python3.10/site-packages/gspan_mining/gspan.py:336: FutureWarning: The frame.append method is deprecated and will be removed from pandas in a future version. Use pandas.concat instead.\n",
      "  self._report_df = self._report_df.append(\n",
      "/home/lrudl/miniconda3/envs/pyg2/lib/python3.10/site-packages/gspan_mining/gspan.py:336: FutureWarning: The frame.append method is deprecated and will be removed from pandas in a future version. Use pandas.concat instead.\n",
      "  self._report_df = self._report_df.append(\n",
      "/home/lrudl/miniconda3/envs/pyg2/lib/python3.10/site-packages/gspan_mining/gspan.py:336: FutureWarning: The frame.append method is deprecated and will be removed from pandas in a future version. Use pandas.concat instead.\n",
      "  self._report_df = self._report_df.append(\n",
      "/home/lrudl/miniconda3/envs/pyg2/lib/python3.10/site-packages/gspan_mining/gspan.py:336: FutureWarning: The frame.append method is deprecated and will be removed from pandas in a future version. Use pandas.concat instead.\n",
      "  self._report_df = self._report_df.append(\n",
      "/home/lrudl/miniconda3/envs/pyg2/lib/python3.10/site-packages/gspan_mining/gspan.py:336: FutureWarning: The frame.append method is deprecated and will be removed from pandas in a future version. Use pandas.concat instead.\n",
      "  self._report_df = self._report_df.append(\n",
      "/home/lrudl/miniconda3/envs/pyg2/lib/python3.10/site-packages/gspan_mining/gspan.py:336: FutureWarning: The frame.append method is deprecated and will be removed from pandas in a future version. Use pandas.concat instead.\n",
      "  self._report_df = self._report_df.append(\n",
      "/home/lrudl/miniconda3/envs/pyg2/lib/python3.10/site-packages/gspan_mining/gspan.py:336: FutureWarning: The frame.append method is deprecated and will be removed from pandas in a future version. Use pandas.concat instead.\n",
      "  self._report_df = self._report_df.append(\n",
      "/home/lrudl/miniconda3/envs/pyg2/lib/python3.10/site-packages/gspan_mining/gspan.py:336: FutureWarning: The frame.append method is deprecated and will be removed from pandas in a future version. Use pandas.concat instead.\n",
      "  self._report_df = self._report_df.append(\n",
      "/home/lrudl/miniconda3/envs/pyg2/lib/python3.10/site-packages/gspan_mining/gspan.py:336: FutureWarning: The frame.append method is deprecated and will be removed from pandas in a future version. Use pandas.concat instead.\n",
      "  self._report_df = self._report_df.append(\n",
      "/home/lrudl/miniconda3/envs/pyg2/lib/python3.10/site-packages/gspan_mining/gspan.py:336: FutureWarning: The frame.append method is deprecated and will be removed from pandas in a future version. Use pandas.concat instead.\n",
      "  self._report_df = self._report_df.append(\n",
      "/home/lrudl/miniconda3/envs/pyg2/lib/python3.10/site-packages/gspan_mining/gspan.py:336: FutureWarning: The frame.append method is deprecated and will be removed from pandas in a future version. Use pandas.concat instead.\n",
      "  self._report_df = self._report_df.append(\n",
      "/home/lrudl/miniconda3/envs/pyg2/lib/python3.10/site-packages/gspan_mining/gspan.py:336: FutureWarning: The frame.append method is deprecated and will be removed from pandas in a future version. Use pandas.concat instead.\n",
      "  self._report_df = self._report_df.append(\n"
     ]
    },
    {
     "name": "stdout",
     "output_type": "stream",
     "text": [
      "t # 14\n",
      "v 0 1\n",
      "v 1 1\n",
      "v 2 1\n",
      "v 3 1\n",
      "e 0 1 1\n",
      "e 0 3 1\n",
      "e 1 2 1\n",
      "e 2 3 1\n",
      "\n",
      "Support: 9\n",
      "\n",
      "-----------------\n",
      "\n",
      "t # 15\n",
      "v 0 1\n",
      "v 1 1\n",
      "v 2 1\n",
      "v 3 1\n",
      "v 4 1\n",
      "e 0 1 1\n",
      "e 0 3 1\n",
      "e 1 2 1\n",
      "e 2 3 1\n",
      "e 3 4 1\n",
      "\n",
      "Support: 9\n",
      "\n",
      "-----------------\n",
      "\n",
      "t # 16\n",
      "v 0 1\n",
      "v 1 1\n",
      "v 2 1\n",
      "v 3 1\n",
      "v 4 1\n",
      "v 5 1\n",
      "e 0 1 1\n",
      "e 0 3 1\n",
      "e 1 2 1\n",
      "e 2 3 1\n",
      "e 3 4 1\n",
      "e 4 5 1\n",
      "\n",
      "Support: 9\n",
      "\n",
      "-----------------\n",
      "\n",
      "t # 17\n",
      "v 0 1\n",
      "v 1 1\n",
      "v 2 1\n",
      "v 3 1\n",
      "v 4 1\n",
      "v 5 1\n",
      "e 0 1 1\n",
      "e 0 3 1\n",
      "e 1 2 1\n",
      "e 2 3 1\n",
      "e 3 4 1\n",
      "e 3 5 1\n",
      "\n",
      "Support: 9\n",
      "\n",
      "-----------------\n",
      "\n",
      "t # 18\n",
      "v 0 1\n",
      "v 1 1\n",
      "v 2 1\n",
      "v 3 1\n",
      "v 4 1\n",
      "v 5 1\n",
      "e 0 1 1\n",
      "e 0 3 1\n",
      "e 1 2 1\n",
      "e 2 3 1\n",
      "e 2 5 1\n",
      "e 3 4 1\n",
      "\n",
      "Support: 9\n",
      "\n",
      "-----------------\n",
      "\n",
      "t # 19\n",
      "v 0 1\n",
      "v 1 1\n",
      "v 2 1\n",
      "v 3 1\n",
      "v 4 1\n",
      "e 0 1 1\n",
      "e 1 2 1\n",
      "e 2 3 1\n",
      "e 3 4 1\n",
      "\n",
      "Support: 10\n",
      "\n",
      "-----------------\n",
      "\n"
     ]
    },
    {
     "name": "stderr",
     "output_type": "stream",
     "text": [
      "/home/lrudl/miniconda3/envs/pyg2/lib/python3.10/site-packages/gspan_mining/gspan.py:336: FutureWarning: The frame.append method is deprecated and will be removed from pandas in a future version. Use pandas.concat instead.\n",
      "  self._report_df = self._report_df.append(\n",
      "/home/lrudl/miniconda3/envs/pyg2/lib/python3.10/site-packages/gspan_mining/gspan.py:336: FutureWarning: The frame.append method is deprecated and will be removed from pandas in a future version. Use pandas.concat instead.\n",
      "  self._report_df = self._report_df.append(\n",
      "/home/lrudl/miniconda3/envs/pyg2/lib/python3.10/site-packages/gspan_mining/gspan.py:336: FutureWarning: The frame.append method is deprecated and will be removed from pandas in a future version. Use pandas.concat instead.\n",
      "  self._report_df = self._report_df.append(\n",
      "/home/lrudl/miniconda3/envs/pyg2/lib/python3.10/site-packages/gspan_mining/gspan.py:336: FutureWarning: The frame.append method is deprecated and will be removed from pandas in a future version. Use pandas.concat instead.\n",
      "  self._report_df = self._report_df.append(\n",
      "/home/lrudl/miniconda3/envs/pyg2/lib/python3.10/site-packages/gspan_mining/gspan.py:336: FutureWarning: The frame.append method is deprecated and will be removed from pandas in a future version. Use pandas.concat instead.\n",
      "  self._report_df = self._report_df.append(\n",
      "/home/lrudl/miniconda3/envs/pyg2/lib/python3.10/site-packages/gspan_mining/gspan.py:336: FutureWarning: The frame.append method is deprecated and will be removed from pandas in a future version. Use pandas.concat instead.\n",
      "  self._report_df = self._report_df.append(\n"
     ]
    },
    {
     "name": "stdout",
     "output_type": "stream",
     "text": [
      "t # 20\n",
      "v 0 1\n",
      "v 1 1\n",
      "v 2 1\n",
      "v 3 1\n",
      "v 4 1\n",
      "e 0 1 1\n",
      "e 0 4 1\n",
      "e 1 2 1\n",
      "e 2 3 1\n",
      "e 3 4 1\n",
      "\n",
      "Support: 9\n",
      "\n",
      "-----------------\n",
      "\n",
      "t # 21\n",
      "v 0 1\n",
      "v 1 1\n",
      "v 2 1\n",
      "v 3 1\n",
      "v 4 1\n",
      "v 5 1\n",
      "e 0 1 1\n",
      "e 0 4 1\n",
      "e 1 2 1\n",
      "e 2 3 1\n",
      "e 3 4 1\n",
      "e 4 5 1\n",
      "\n",
      "Support: 9\n",
      "\n",
      "-----------------\n",
      "\n",
      "t # 22\n",
      "v 0 1\n",
      "v 1 1\n",
      "v 2 1\n",
      "v 3 1\n",
      "v 4 1\n",
      "v 5 1\n",
      "e 0 1 1\n",
      "e 1 2 1\n",
      "e 2 3 1\n",
      "e 3 4 1\n",
      "e 4 5 1\n",
      "\n",
      "Support: 10\n",
      "\n",
      "-----------------\n",
      "\n",
      "t # 23\n",
      "v 0 1\n",
      "v 1 1\n",
      "v 2 1\n",
      "v 3 1\n",
      "v 4 1\n",
      "v 5 1\n",
      "e 0 1 1\n",
      "e 1 2 1\n",
      "e 2 3 1\n",
      "e 3 4 1\n",
      "e 3 5 1\n",
      "\n",
      "Support: 10\n",
      "\n",
      "-----------------\n",
      "\n"
     ]
    },
    {
     "name": "stderr",
     "output_type": "stream",
     "text": [
      "/home/lrudl/miniconda3/envs/pyg2/lib/python3.10/site-packages/gspan_mining/gspan.py:336: FutureWarning: The frame.append method is deprecated and will be removed from pandas in a future version. Use pandas.concat instead.\n",
      "  self._report_df = self._report_df.append(\n",
      "/home/lrudl/miniconda3/envs/pyg2/lib/python3.10/site-packages/gspan_mining/gspan.py:336: FutureWarning: The frame.append method is deprecated and will be removed from pandas in a future version. Use pandas.concat instead.\n",
      "  self._report_df = self._report_df.append(\n",
      "/home/lrudl/miniconda3/envs/pyg2/lib/python3.10/site-packages/gspan_mining/gspan.py:336: FutureWarning: The frame.append method is deprecated and will be removed from pandas in a future version. Use pandas.concat instead.\n",
      "  self._report_df = self._report_df.append(\n",
      "/home/lrudl/miniconda3/envs/pyg2/lib/python3.10/site-packages/gspan_mining/gspan.py:336: FutureWarning: The frame.append method is deprecated and will be removed from pandas in a future version. Use pandas.concat instead.\n",
      "  self._report_df = self._report_df.append(\n"
     ]
    },
    {
     "name": "stdout",
     "output_type": "stream",
     "text": [
      "t # 24\n",
      "v 0 1\n",
      "v 1 1\n",
      "v 2 1\n",
      "v 3 1\n",
      "v 4 1\n",
      "v 5 1\n",
      "e 0 1 1\n",
      "e 1 2 1\n",
      "e 2 3 1\n",
      "e 2 5 1\n",
      "e 3 4 1\n",
      "\n",
      "Support: 10\n",
      "\n",
      "-----------------\n",
      "\n"
     ]
    },
    {
     "name": "stderr",
     "output_type": "stream",
     "text": [
      "/home/lrudl/miniconda3/envs/pyg2/lib/python3.10/site-packages/gspan_mining/gspan.py:336: FutureWarning: The frame.append method is deprecated and will be removed from pandas in a future version. Use pandas.concat instead.\n",
      "  self._report_df = self._report_df.append(\n"
     ]
    },
    {
     "name": "stdout",
     "output_type": "stream",
     "text": [
      "t # 25\n",
      "v 0 1\n",
      "v 1 1\n",
      "v 2 1\n",
      "v 3 1\n",
      "v 4 1\n",
      "e 0 1 1\n",
      "e 1 2 1\n",
      "e 2 3 1\n",
      "e 2 4 1\n",
      "\n",
      "Support: 10\n",
      "\n",
      "-----------------\n",
      "\n"
     ]
    },
    {
     "name": "stderr",
     "output_type": "stream",
     "text": [
      "/home/lrudl/miniconda3/envs/pyg2/lib/python3.10/site-packages/gspan_mining/gspan.py:336: FutureWarning: The frame.append method is deprecated and will be removed from pandas in a future version. Use pandas.concat instead.\n",
      "  self._report_df = self._report_df.append(\n"
     ]
    },
    {
     "name": "stdout",
     "output_type": "stream",
     "text": [
      "t # 26\n",
      "v 0 1\n",
      "v 1 1\n",
      "v 2 1\n",
      "v 3 1\n",
      "v 4 1\n",
      "v 5 1\n",
      "e 0 1 1\n",
      "e 1 2 1\n",
      "e 2 3 1\n",
      "e 2 4 1\n",
      "e 2 5 1\n",
      "\n",
      "Support: 10\n",
      "\n",
      "-----------------\n",
      "\n"
     ]
    },
    {
     "name": "stderr",
     "output_type": "stream",
     "text": [
      "/home/lrudl/miniconda3/envs/pyg2/lib/python3.10/site-packages/gspan_mining/gspan.py:336: FutureWarning: The frame.append method is deprecated and will be removed from pandas in a future version. Use pandas.concat instead.\n",
      "  self._report_df = self._report_df.append(\n"
     ]
    },
    {
     "name": "stdout",
     "output_type": "stream",
     "text": [
      "t # 27\n",
      "v 0 1\n",
      "v 1 1\n",
      "v 2 1\n",
      "v 3 1\n",
      "v 4 1\n",
      "v 5 1\n",
      "e 0 1 1\n",
      "e 1 2 1\n",
      "e 1 5 1\n",
      "e 2 3 1\n",
      "e 2 4 1\n",
      "\n",
      "Support: 10\n",
      "\n",
      "-----------------\n",
      "\n"
     ]
    },
    {
     "name": "stderr",
     "output_type": "stream",
     "text": [
      "/home/lrudl/miniconda3/envs/pyg2/lib/python3.10/site-packages/gspan_mining/gspan.py:336: FutureWarning: The frame.append method is deprecated and will be removed from pandas in a future version. Use pandas.concat instead.\n",
      "  self._report_df = self._report_df.append(\n"
     ]
    },
    {
     "name": "stdout",
     "output_type": "stream",
     "text": [
      "t # 28\n",
      "v 0 1\n",
      "v 1 1\n",
      "v 2 1\n",
      "v 3 1\n",
      "e 0 1 1\n",
      "e 1 2 1\n",
      "e 1 3 1\n",
      "\n",
      "Support: 10\n",
      "\n",
      "-----------------\n",
      "\n"
     ]
    },
    {
     "name": "stderr",
     "output_type": "stream",
     "text": [
      "/home/lrudl/miniconda3/envs/pyg2/lib/python3.10/site-packages/gspan_mining/gspan.py:336: FutureWarning: The frame.append method is deprecated and will be removed from pandas in a future version. Use pandas.concat instead.\n",
      "  self._report_df = self._report_df.append(\n"
     ]
    },
    {
     "name": "stdout",
     "output_type": "stream",
     "text": [
      "t # 29\n",
      "v 0 1\n",
      "v 1 1\n",
      "v 2 1\n",
      "v 3 1\n",
      "v 4 1\n",
      "e 0 1 1\n",
      "e 1 2 1\n",
      "e 1 3 1\n",
      "e 1 4 1\n",
      "\n",
      "Support: 10\n",
      "\n",
      "-----------------\n",
      "\n"
     ]
    },
    {
     "name": "stderr",
     "output_type": "stream",
     "text": [
      "/home/lrudl/miniconda3/envs/pyg2/lib/python3.10/site-packages/gspan_mining/gspan.py:336: FutureWarning: The frame.append method is deprecated and will be removed from pandas in a future version. Use pandas.concat instead.\n",
      "  self._report_df = self._report_df.append(\n"
     ]
    },
    {
     "name": "stdout",
     "output_type": "stream",
     "text": [
      "t # 30\n",
      "v 0 1\n",
      "v 1 1\n",
      "v 2 1\n",
      "v 3 1\n",
      "v 4 1\n",
      "v 5 1\n",
      "e 0 1 1\n",
      "e 1 2 1\n",
      "e 1 3 1\n",
      "e 1 4 1\n",
      "e 1 5 1\n",
      "\n",
      "Support: 8\n",
      "\n",
      "-----------------\n",
      "\n"
     ]
    },
    {
     "name": "stderr",
     "output_type": "stream",
     "text": [
      "/home/lrudl/miniconda3/envs/pyg2/lib/python3.10/site-packages/gspan_mining/gspan.py:336: FutureWarning: The frame.append method is deprecated and will be removed from pandas in a future version. Use pandas.concat instead.\n",
      "  self._report_df = self._report_df.append(\n"
     ]
    },
    {
     "name": "stdout",
     "output_type": "stream",
     "text": [
      "Read:\t0.0 s\n",
      "Mine:\t69.03 s\n",
      "Total:\t69.03 s\n"
     ]
    }
   ],
   "source": [
    "concepts, df = gspan_on_graph(\n",
    "    graph,\n",
    "    concepts=7,\n",
    "    n=10,\n",
    "    k=4,\n",
    "    support=5,\n",
    "    min_nodes=3,\n",
    "    max_nodes=6\n",
    ")"
   ]
  },
  {
   "cell_type": "code",
   "execution_count": 6,
   "metadata": {},
   "outputs": [
    {
     "data": {
      "text/plain": [
       "[<Graph object with 3 nodes and 3 edges>,\n",
       " <Graph object with 5 nodes and 5 edges>,\n",
       " <Graph object with 5 nodes and 4 edges>,\n",
       " <Graph object with 6 nodes and 5 edges>,\n",
       " <Graph object with 5 nodes and 6 edges>,\n",
       " <Graph object with 5 nodes and 5 edges>,\n",
       " <Graph object with 6 nodes and 5 edges>]"
      ]
     },
     "execution_count": 6,
     "metadata": {},
     "output_type": "execute_result"
    }
   ],
   "source": [
    "concepts"
   ]
  },
  {
   "cell_type": "code",
   "execution_count": 8,
   "metadata": {},
   "outputs": [
    {
     "name": "stdout",
     "output_type": "stream",
     "text": [
      "0\n"
     ]
    },
    {
     "data": {
      "image/png": "[encoded data removed]",
      "text/plain": [
       "<Figure size 640x480 with 1 Axes>"
      ]
     },
     "metadata": {},
     "output_type": "display_data"
    },
    {
     "name": "stdout",
     "output_type": "stream",
     "text": [
      "1\n"
     ]
    },
    {
     "data": {
      "image/png": "[encoded data removed]",
      "text/plain": [
       "<Figure size 640x480 with 1 Axes>"
      ]
     },
     "metadata": {},
     "output_type": "display_data"
    },
    {
     "name": "stdout",
     "output_type": "stream",
     "text": [
      "2\n"
     ]
    },
    {
     "data": {
      "image/png": "[encoded data removed]",
      "text/plain": [
       "<Figure size 640x480 with 1 Axes>"
      ]
     },
     "metadata": {},
     "output_type": "display_data"
    },
    {
     "name": "stdout",
     "output_type": "stream",
     "text": [
      "3\n"
     ]
    },
    {
     "data": {
      "image/png": "[encoded data removed]",
      "text/plain": [
       "<Figure size 640x480 with 1 Axes>"
      ]
     },
     "metadata": {},
     "output_type": "display_data"
    },
    {
     "name": "stdout",
     "output_type": "stream",
     "text": [
      "4\n"
     ]
    },
    {
     "data": {
      "image/png": "[encoded data removed]",
      "text/plain": [
       "<Figure size 640x480 with 1 Axes>"
      ]
     },
     "metadata": {},
     "output_type": "display_data"
    },
    {
     "name": "stdout",
     "output_type": "stream",
     "text": [
      "5\n"
     ]
    },
    {
     "data": {
      "image/png": "[encoded data removed]",
      "text/plain": [
       "<Figure size 640x480 with 1 Axes>"
      ]
     },
     "metadata": {},
     "output_type": "display_data"
    },
    {
     "name": "stdout",
     "output_type": "stream",
     "text": [
      "6\n"
     ]
    },
    {
     "data": {
      "image/png": "[encoded data removed]",
      "text/plain": [
       "<Figure size 640x480 with 1 Axes>"
      ]
     },
     "metadata": {},
     "output_type": "display_data"
    }
   ],
   "source": [
    "for i, concept in enumerate(concepts):\n",
    "    print(i)\n",
    "    concept.draw()\n",
    "    plt.show()"
   ]
  },
  {
   "cell_type": "code",
   "execution_count": null,
   "metadata": {},
   "outputs": [],
   "source": []
  }
 ],
 "metadata": {
  "kernelspec": {
   "display_name": "Python 3",
   "language": "python",
   "name": "python3"
  },
  "language_info": {
   "codemirror_mode": {
    "name": "ipython",
    "version": 3
   },
   "file_extension": ".py",
   "mimetype": "text/x-python",
   "name": "python",
   "nbconvert_exporter": "python",
   "pygments_lexer": "ipython3",
   "version": "3.10.9"
  },
  "orig_nbformat": 4
 },
 "nbformat": 4,
 "nbformat_minor": 2
}
